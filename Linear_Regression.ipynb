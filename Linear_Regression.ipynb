{
  "nbformat": 4,
  "nbformat_minor": 0,
  "metadata": {
    "colab": {
      "provenance": [],
      "gpuType": "T4",
      "authorship_tag": "ABX9TyOGfxJDdMcKXzuDgX/85/hd",
      "include_colab_link": true
    },
    "kernelspec": {
      "name": "python3",
      "display_name": "Python 3"
    },
    "language_info": {
      "name": "python"
    }
  },
  "cells": [
    {
      "cell_type": "markdown",
      "metadata": {
        "id": "view-in-github",
        "colab_type": "text"
      },
      "source": [
        "<a href=\"https://colab.research.google.com/github/Snowyyxx/Pytorch/blob/main/Linear_Regression.ipynb\" target=\"_parent\"><img src=\"https://colab.research.google.com/assets/colab-badge.svg\" alt=\"Open In Colab\"/></a>"
      ]
    },
    {
      "cell_type": "code",
      "execution_count": 1,
      "metadata": {
        "id": "Dipw4qUIEZ9j"
      },
      "outputs": [],
      "source": [
        "import torch\n",
        "from torch import nn\n",
        "import matplotlib.pyplot as plt\n",
        "import numpy as np\n",
        "import pandas as pd"
      ]
    },
    {
      "cell_type": "code",
      "source": [
        "start = 0\n",
        "end = 10\n",
        "step =0.1\n",
        "bias = 0.3\n",
        "weight=0.7\n",
        "X = torch.arange(start,end,step)\n",
        "y = X*weight + bias"
      ],
      "metadata": {
        "id": "CNmL5dfpEp9W"
      },
      "execution_count": 2,
      "outputs": []
    },
    {
      "cell_type": "code",
      "source": [
        "len(X),len(y)"
      ],
      "metadata": {
        "colab": {
          "base_uri": "https://localhost:8080/",
          "height": 0
        },
        "id": "1mYEvDGdHAs7",
        "outputId": "2a703a1b-b214-4b14-9cfa-5464bf5a38f1"
      },
      "execution_count": 3,
      "outputs": [
        {
          "output_type": "execute_result",
          "data": {
            "text/plain": [
              "(100, 100)"
            ]
          },
          "metadata": {},
          "execution_count": 3
        }
      ]
    },
    {
      "cell_type": "code",
      "source": [
        "from sklearn.model_selection import train_test_split\n",
        "X_train,X_test,y_train,y_test = train_test_split(X,y,random_state=42,train_size=0.2)"
      ],
      "metadata": {
        "id": "_p8YG7ZRGbNz"
      },
      "execution_count": 4,
      "outputs": []
    },
    {
      "cell_type": "code",
      "source": [
        "class LinearRegression(nn.Module):\n",
        "  def __init__(self):\n",
        "    super().__init__()\n",
        "    self.weight = nn.Parameter(torch.randn(1))\n",
        "    self.bias = nn.Parameter(torch.randn(1))\n",
        "\n",
        "  def forward(self,x:torch.Tensor)->torch.Tensor:\n",
        "    return self.weight*x + self.bias"
      ],
      "metadata": {
        "id": "wK48kRq7FSzh"
      },
      "execution_count": 5,
      "outputs": []
    },
    {
      "cell_type": "code",
      "source": [
        "torch.manual_seed(42)\n",
        "model = LinearRegression()"
      ],
      "metadata": {
        "id": "tsyw8yH2FZsi"
      },
      "execution_count": 6,
      "outputs": []
    },
    {
      "cell_type": "code",
      "source": [
        "list(model.parameters())"
      ],
      "metadata": {
        "colab": {
          "base_uri": "https://localhost:8080/",
          "height": 0
        },
        "id": "7pzjIqAPNIce",
        "outputId": "b68fe1a0-59c5-4019-ef45-b56d6420483c"
      },
      "execution_count": 7,
      "outputs": [
        {
          "output_type": "execute_result",
          "data": {
            "text/plain": [
              "[Parameter containing:\n",
              " tensor([0.3367], requires_grad=True),\n",
              " Parameter containing:\n",
              " tensor([0.1288], requires_grad=True)]"
            ]
          },
          "metadata": {},
          "execution_count": 7
        }
      ]
    },
    {
      "cell_type": "code",
      "source": [
        "model.state_dict()"
      ],
      "metadata": {
        "colab": {
          "base_uri": "https://localhost:8080/",
          "height": 0
        },
        "id": "Nsx4ZRCDN9LE",
        "outputId": "eb69180c-5684-4554-ec2f-26a2fc09c189"
      },
      "execution_count": 8,
      "outputs": [
        {
          "output_type": "execute_result",
          "data": {
            "text/plain": [
              "OrderedDict([('weight', tensor([0.3367])), ('bias', tensor([0.1288]))])"
            ]
          },
          "metadata": {},
          "execution_count": 8
        }
      ]
    },
    {
      "cell_type": "code",
      "source": [
        "X_test"
      ],
      "metadata": {
        "colab": {
          "base_uri": "https://localhost:8080/",
          "height": 0
        },
        "id": "oih1U0xJDvM2",
        "outputId": "a0c680e4-04bd-431f-e3dd-1508c1f2358f"
      },
      "execution_count": 9,
      "outputs": [
        {
          "output_type": "execute_result",
          "data": {
            "text/plain": [
              "tensor([8.3000, 5.3000, 7.0000, 4.5000, 4.4000, 3.9000, 2.2000, 8.0000, 1.0000,\n",
              "        0.0000, 1.8000, 3.0000, 7.3000, 3.3000, 9.0000, 0.4000, 7.6000, 7.7000,\n",
              "        1.2000, 3.1000, 5.5000, 8.8000, 2.6000, 4.2000, 6.9000, 1.5000, 4.0000,\n",
              "        9.6000, 0.9000, 7.2000, 1.1000, 4.7000, 8.5000, 2.8000, 9.3000, 0.5000,\n",
              "        6.6000, 6.5000, 3.5000, 1.6000, 4.9000, 3.4000, 0.7000, 9.5000, 2.7000,\n",
              "        1.9000, 8.1000, 2.5000, 6.2000, 1.3000, 2.4000, 0.3000, 1.7000, 3.8000,\n",
              "        0.8000, 7.8000, 0.6000, 6.4000, 3.6000, 8.9000, 5.6000, 9.9000, 5.4000,\n",
              "        4.3000, 5.0000, 6.7000, 4.6000, 6.8000, 6.1000, 9.7000, 7.9000, 4.1000,\n",
              "        5.8000, 4.8000, 9.8000, 5.7000, 7.5000, 3.2000, 9.4000, 5.9000])"
            ]
          },
          "metadata": {},
          "execution_count": 9
        }
      ]
    },
    {
      "cell_type": "markdown",
      "source": [
        "### Making Prediction using torch.inference_mode()"
      ],
      "metadata": {
        "id": "UevRbb0MDT5y"
      }
    },
    {
      "cell_type": "code",
      "source": [
        "with torch.inference_mode():\n",
        "  y_pred = model(X_test)"
      ],
      "metadata": {
        "id": "Czmls5LbDZ3X"
      },
      "execution_count": 10,
      "outputs": []
    },
    {
      "cell_type": "code",
      "source": [
        "y_pred"
      ],
      "metadata": {
        "colab": {
          "base_uri": "https://localhost:8080/",
          "height": 0
        },
        "id": "LhelWKPjDhCe",
        "outputId": "5acd77bf-1017-4fcc-f060-799281b9a5b0"
      },
      "execution_count": 11,
      "outputs": [
        {
          "output_type": "execute_result",
          "data": {
            "text/plain": [
              "tensor([2.9233, 1.9133, 2.4856, 1.6439, 1.6102, 1.4419, 0.8695, 2.8223, 0.4655,\n",
              "        0.1288, 0.7349, 1.1389, 2.5866, 1.2399, 3.1590, 0.2635, 2.6877, 2.7213,\n",
              "        0.5328, 1.1725, 1.9806, 3.0917, 1.0042, 1.5429, 2.4520, 0.6338, 1.4756,\n",
              "        3.3610, 0.4318, 2.5530, 0.4992, 1.7113, 2.9907, 1.0715, 3.2600, 0.2972,\n",
              "        2.3510, 2.3173, 1.3072, 0.6675, 1.7786, 1.2736, 0.3645, 3.3274, 1.0379,\n",
              "        0.7685, 2.8560, 0.9705, 2.2163, 0.5665, 0.9369, 0.2298, 0.7012, 1.4082,\n",
              "        0.3982, 2.7550, 0.3308, 2.2836, 1.3409, 3.1254, 2.0143, 3.4620, 1.9469,\n",
              "        1.5766, 1.8123, 2.3846, 1.6776, 2.4183, 2.1826, 3.3947, 2.7887, 1.5092,\n",
              "        2.0816, 1.7449, 3.4284, 2.0479, 2.6540, 1.2062, 3.2937, 2.1153])"
            ]
          },
          "metadata": {},
          "execution_count": 11
        }
      ]
    },
    {
      "cell_type": "code",
      "source": [
        "y_test"
      ],
      "metadata": {
        "colab": {
          "base_uri": "https://localhost:8080/",
          "height": 0
        },
        "id": "BPSMFaI6E1JP",
        "outputId": "8a59f72a-0b1c-4bb3-d9ad-da719d77b0cb"
      },
      "execution_count": 12,
      "outputs": [
        {
          "output_type": "execute_result",
          "data": {
            "text/plain": [
              "tensor([6.1100, 4.0100, 5.2000, 3.4500, 3.3800, 3.0300, 1.8400, 5.9000, 1.0000,\n",
              "        0.3000, 1.5600, 2.4000, 5.4100, 2.6100, 6.6000, 0.5800, 5.6200, 5.6900,\n",
              "        1.1400, 2.4700, 4.1500, 6.4600, 2.1200, 3.2400, 5.1300, 1.3500, 3.1000,\n",
              "        7.0200, 0.9300, 5.3400, 1.0700, 3.5900, 6.2500, 2.2600, 6.8100, 0.6500,\n",
              "        4.9200, 4.8500, 2.7500, 1.4200, 3.7300, 2.6800, 0.7900, 6.9500, 2.1900,\n",
              "        1.6300, 5.9700, 2.0500, 4.6400, 1.2100, 1.9800, 0.5100, 1.4900, 2.9600,\n",
              "        0.8600, 5.7600, 0.7200, 4.7800, 2.8200, 6.5300, 4.2200, 7.2300, 4.0800,\n",
              "        3.3100, 3.8000, 4.9900, 3.5200, 5.0600, 4.5700, 7.0900, 5.8300, 3.1700,\n",
              "        4.3600, 3.6600, 7.1600, 4.2900, 5.5500, 2.5400, 6.8800, 4.4300])"
            ]
          },
          "metadata": {},
          "execution_count": 12
        }
      ]
    },
    {
      "cell_type": "code",
      "source": [
        "import matplotlib.pyplot as plt\n",
        "\n",
        "def plot_predictions(test_labels = y_test,test_values=X_test,train_values=X_train,train_labels=y_train,predicted_values=y_pred):\n",
        "    # Plot training data\n",
        "    plt.scatter(train_values, train_labels, color='r', label='Train Data')\n",
        "\n",
        "    # Plot test data\n",
        "    plt.scatter(test_values, test_labels, label='Test Data')\n",
        "\n",
        "    # Plot predicted values (if provided)\n",
        "    if predicted_values is not None:\n",
        "        plt.scatter(test_values, predicted_values, color='g', label='Predicted Data')\n",
        "\n",
        "    # Set title and labels\n",
        "    plt.title('Data Visualization')\n",
        "    plt.xlabel('Values')\n",
        "    plt.ylabel('Labels')\n",
        "    plt.legend(loc='upper left')\n",
        "\n",
        "    # Show the plot\n",
        "    plt.show()\n",
        "\n",
        "# Sample usage (you need to define y_test, X_test, X_train, y_train, and y_pred)\n",
        "# plot_predictions(y_test, X_test, X_train, y_train, y_pred)\n"
      ],
      "metadata": {
        "id": "YTVcTV0bE3q5"
      },
      "execution_count": 13,
      "outputs": []
    },
    {
      "cell_type": "code",
      "source": [
        "plot_predictions()"
      ],
      "metadata": {
        "colab": {
          "base_uri": "https://localhost:8080/",
          "height": 472
        },
        "id": "LXQPrgjiFwqB",
        "outputId": "01d9536b-2b9d-4599-a426-d92dafaaeffc"
      },
      "execution_count": 14,
      "outputs": [
        {
          "output_type": "display_data",
          "data": {
            "text/plain": [
              "<Figure size 640x480 with 1 Axes>"
            ],
            "image/png": "[encoded data removed]"
          },
          "metadata": {}
        }
      ]
    },
    {
      "cell_type": "code",
      "source": [
        "#Loss Function:\n",
        "MAE_loss = nn.L1Loss()\n",
        "\n",
        "#Setup Optimizer: (Random Gradient Descenet blah blah)\n",
        "optimizer = torch.optim.SGD(params=model.parameters(),lr = 0.01) #lr = learningrate"
      ],
      "metadata": {
        "id": "suV5i3ahFxxY"
      },
      "execution_count": 15,
      "outputs": []
    },
    {
      "cell_type": "code",
      "source": [
        "# Building a training loop (and a testing loop):"
      ],
      "metadata": {
        "id": "uKHKN1TtLGzr"
      },
      "execution_count": 16,
      "outputs": []
    },
    {
      "cell_type": "markdown",
      "source": [
        "Training Loop:\n",
        "0. Loop throught the data\n",
        "1. Push the data in forward method\n",
        "2. Calculate Loss\n",
        "3. Optimizer step\n",
        "4. Loss Backward: move backwards throught the network to calculate the gradients of each of the paramters of our models.\n",
        "5. Optimzer Step"
      ],
      "metadata": {
        "id": "504K21OpzBwv"
      }
    },
    {
      "cell_type": "code",
      "source": [
        "# An epoch is one loop through the data...\n",
        "epochs = 100\n",
        "torch.manual_seed(42)\n",
        "\n",
        "#0. Loop through the data:\n",
        "for epoch in range(epochs):\n",
        "  model.train() # train mode in pytorch set\n",
        "  #forward pass:\n",
        "  y_pred = model(X_test)\n",
        "  #Calculate Loss:\n",
        "  loss  = MAE_loss(y_pred,y_test)\n",
        "  #optimizer:\n",
        "  optimizer.zero_grad()\n",
        "  #perform back propagation on the loss with respect to the parameters of the model:\n",
        "  loss.backward()\n",
        "  #step the optimizer: (perform gradient descent)\n",
        "  optimizer.step()\n",
        "\n",
        "\n",
        "  #Testing:\n",
        "  model.eval() # turns off the different settings in the model not needed for testing:\n",
        "  with torch.inference_mode(): #turns of gradient tracking!\n",
        "    #1. DO the forward pass\n",
        "    test_predictions = model(X_test)\n",
        "\n",
        "    #2. Calculate the loss:\n",
        "    test_loss = MAE_loss(test_predictions,y_test)\n",
        "\n",
        "    if epoch %10 ==0:\n",
        "      print(f\"Epoch:{epoch}|Test {loss}| Test Loss: {test_loss}\")\n"
      ],
      "metadata": {
        "colab": {
          "base_uri": "https://localhost:8080/",
          "height": 0
        },
        "id": "52FuxfdhzCQP",
        "outputId": "4a142c2b-02ad-4aa1-953d-73da46dafc88"
      },
      "execution_count": 17,
      "outputs": [
        {
          "output_type": "stream",
          "name": "stdout",
          "text": [
            "Epoch:0|Test 1.9468666315078735| Test Loss: 1.697989821434021\n",
            "Epoch:10|Test 0.12123721837997437| Test Loss: 0.11883042007684708\n",
            "Epoch:20|Test 0.20657742023468018| Test Loss: 0.03855485841631889\n",
            "Epoch:30|Test 0.1490112841129303| Test Loss: 0.09335829317569733\n",
            "Epoch:40|Test 0.19339951872825623| Test Loss: 0.0530393011868\n",
            "Epoch:50|Test 0.21610641479492188| Test Loss: 0.03125002607703209\n",
            "Epoch:60|Test 0.23067128658294678| Test Loss: 0.017358873039484024\n",
            "Epoch:70|Test 0.16524523496627808| Test Loss: 0.0813567191362381\n",
            "Epoch:80|Test 0.17719078063964844| Test Loss: 0.070747509598732\n",
            "Epoch:90|Test 0.1835157573223114| Test Loss: 0.06493739783763885\n"
          ]
        }
      ]
    },
    {
      "cell_type": "code",
      "source": [
        "model.state_dict()"
      ],
      "metadata": {
        "colab": {
          "base_uri": "https://localhost:8080/",
          "height": 0
        },
        "id": "EmWfD7sLJBok",
        "outputId": "7d41ead9-b311-445b-8b63-cf4c5dbb9037"
      },
      "execution_count": 18,
      "outputs": [
        {
          "output_type": "execute_result",
          "data": {
            "text/plain": [
              "OrderedDict([('weight', tensor([0.7409])), ('bias', tensor([0.2876]))])"
            ]
          },
          "metadata": {},
          "execution_count": 18
        }
      ]
    },
    {
      "cell_type": "code",
      "source": [
        "weight,bias"
      ],
      "metadata": {
        "colab": {
          "base_uri": "https://localhost:8080/",
          "height": 0
        },
        "id": "LGtWKr104CaG",
        "outputId": "6e9deac8-19c9-4e6d-ad98-6ead36d3ff9c"
      },
      "execution_count": 19,
      "outputs": [
        {
          "output_type": "execute_result",
          "data": {
            "text/plain": [
              "(0.7, 0.3)"
            ]
          },
          "metadata": {},
          "execution_count": 19
        }
      ]
    },
    {
      "cell_type": "code",
      "source": [
        "with torch.inference_mode():\n",
        "  y_preds_new = model(X_test)"
      ],
      "metadata": {
        "id": "5GjalWiB4MWi"
      },
      "execution_count": 20,
      "outputs": []
    },
    {
      "cell_type": "code",
      "source": [
        "plot_predictions(predicted_values=y_preds_new)"
      ],
      "metadata": {
        "colab": {
          "base_uri": "https://localhost:8080/",
          "height": 472
        },
        "id": "wLnb8XtL5dMx",
        "outputId": "06880ad7-3960-4771-a34e-03bfac87bd59"
      },
      "execution_count": 21,
      "outputs": [
        {
          "output_type": "display_data",
          "data": {
            "text/plain": [
              "<Figure size 640x480 with 1 Axes>"
            ],
            "image/png": "[encoded data removed]"
          },
          "metadata": {}
        }
      ]
    },
    {
      "cell_type": "code",
      "source": [],
      "metadata": {
        "id": "spyx3cTc5nt1"
      },
      "execution_count": 21,
      "outputs": []
    }
  ]
}