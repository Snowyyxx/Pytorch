{
 "cells": [
  {
   "cell_type": "markdown",
   "id": "f19c46fb",
   "metadata": {},
   "source": [
    "### Random Tensors\n",
    "\n",
    "why random tensors?\n",
    "they are important becuase the way many neural networks learn is that they start with tensors full of random numbers and then adjust those random numbers to better represent the data.\n"
   ]
  },
  {
   "cell_type": "code",
   "execution_count": 2,
   "id": "ba8c6e77",
   "metadata": {},
   "outputs": [],
   "source": [
    "# create a random tensors of size (3,4)\n",
    "import pandas as pd\n",
    "import torch\n",
    "import numpy as np\n",
    "import matplotlib.pyplot as plt\n"
   ]
  },
  {
   "cell_type": "code",
   "execution_count": 3,
   "id": "06d358c6",
   "metadata": {},
   "outputs": [],
   "source": [
    "random_tensor = torch.rand(3,3)"
   ]
  },
  {
   "cell_type": "code",
   "execution_count": 4,
   "id": "714bf850",
   "metadata": {},
   "outputs": [
    {
     "data": {
      "text/plain": [
       "tensor([[0.5762, 0.9213, 0.1784],\n",
       "        [0.5387, 0.9191, 0.9761],\n",
       "        [0.8715, 0.2670, 0.4416]])"
      ]
     },
     "execution_count": 4,
     "metadata": {},
     "output_type": "execute_result"
    }
   ],
   "source": [
    "random_tensor"
   ]
  },
  {
   "cell_type": "code",
   "execution_count": 5,
   "id": "4eba78e2",
   "metadata": {},
   "outputs": [
    {
     "data": {
      "text/plain": [
       "2"
      ]
     },
     "execution_count": 5,
     "metadata": {},
     "output_type": "execute_result"
    }
   ],
   "source": [
    "random_tensor.ndim"
   ]
  },
  {
   "cell_type": "code",
   "execution_count": 6,
   "id": "2eeb6f03",
   "metadata": {},
   "outputs": [],
   "source": [
    "# random tensor with similar shape to image tensor"
   ]
  },
  {
   "cell_type": "code",
   "execution_count": 7,
   "id": "b15a9c2d",
   "metadata": {},
   "outputs": [],
   "source": [
    "random_image_size_tensor = torch.rand(size=(224,224,3))\n",
    "#height,widht,color channel"
   ]
  },
  {
   "cell_type": "code",
   "execution_count": 11,
   "id": "1c291702",
   "metadata": {},
   "outputs": [],
   "source": [
    "# Creating tensor with all zero\n",
    "zero  = torch.zeros(size=[3,4])"
   ]
  },
  {
   "cell_type": "code",
   "execution_count": 12,
   "id": "e153864d",
   "metadata": {},
   "outputs": [
    {
     "data": {
      "text/plain": [
       "tensor([[0., 0., 0., 0.],\n",
       "        [0., 0., 0., 0.],\n",
       "        [0., 0., 0., 0.]])"
      ]
     },
     "execution_count": 12,
     "metadata": {},
     "output_type": "execute_result"
    }
   ],
   "source": [
    "zero"
   ]
  },
  {
   "cell_type": "code",
   "execution_count": 13,
   "id": "2d128fff",
   "metadata": {},
   "outputs": [],
   "source": [
    "ones = torch.ones(size=[3,4])"
   ]
  },
  {
   "cell_type": "code",
   "execution_count": 15,
   "id": "48d73ab7",
   "metadata": {},
   "outputs": [
    {
     "data": {
      "text/plain": [
       "tensor([[1., 1., 1., 1.],\n",
       "        [1., 1., 1., 1.],\n",
       "        [1., 1., 1., 1.]])"
      ]
     },
     "execution_count": 15,
     "metadata": {},
     "output_type": "execute_result"
    }
   ],
   "source": [
    "ones"
   ]
  },
  {
   "cell_type": "code",
   "execution_count": null,
   "id": "36101ea4",
   "metadata": {},
   "outputs": [],
   "source": []
  }
 ],
 "metadata": {
  "kernelspec": {
   "display_name": "pytorch_env",
   "language": "python",
   "name": "pytorch"
  },
  "language_info": {
   "codemirror_mode": {
    "name": "ipython",
    "version": 3
   },
   "file_extension": ".py",
   "mimetype": "text/x-python",
   "name": "python",
   "nbconvert_exporter": "python",
   "pygments_lexer": "ipython3",
   "version": "3.11.4"
  }
 },
 "nbformat": 4,
 "nbformat_minor": 5
}
